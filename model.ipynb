{
 "cells": [
  {
   "cell_type": "markdown",
   "metadata": {},
   "source": [
    "# Imports needed for creating and training a neural network\n",
    "\n",
    "## References\n",
    "[Keras](https://keras.io/#getting-started-30-seconds-to-keras)  \n",
    "[Numpy](https://numpy.org/devdocs/user/quickstart.html)  \n",
    "[matplotlib](https://matplotlib.org/)  \n",
    "[Adapted from: https://www.ics.uci.edu/~mohamadt/keras_mnist.html](https://www.ics.uci.edu/~mohamadt/keras_mnist.html)"
   ]
  },
  {
   "cell_type": "markdown",
   "metadata": {},
   "source": [
    "# Importing the training images and labels and refactoring them so they fit the keras model"
   ]
  },
  {
   "cell_type": "code",
   "execution_count": 50,
   "metadata": {},
   "outputs": [],
   "source": [
    "# Used to create a neural network that will be trained using the MNIST dataset\n",
    "import keras as kr\n",
    "# used to Store the bytes files in arrays that can be easily fed into the neural network\n",
    "import numpy as np\n",
    "# plotting the data on graphs for visualisation\n",
    "import matplotlib.pyplot as plt"
   ]
  },
  {
   "cell_type": "markdown",
   "metadata": {},
   "source": [
    "# Decompressing and assigning the datasets from MNIST"
   ]
  },
  {
   "cell_type": "code",
   "execution_count": 51,
   "metadata": {},
   "outputs": [
    {
     "name": "stdout",
     "output_type": "stream",
     "text": [
      "One hot vector at index 0 of training labels  [0. 0. 0. 0. 0. 1. 0. 0. 0. 0.]\n"
     ]
    }
   ],
   "source": [
    "# Importing the the mnist dataset from built in keras feature\n",
    "\n",
    "#This is dataset that will be used by the neural network\n",
    "(train_img, train_lbl), (test_img, test_lbl) = kr.datasets.mnist.load_data()\n",
    "\n",
    "# This is just for holding the original label values in arrays for clarifing outputs\n",
    "# NOT USED IN MODEL\n",
    "(train_images, train_labels), (test_images, test_labels) = kr.datasets.mnist.load_data()\n",
    "\n",
    "# 784 is just 28 * 28 making it simpler\n",
    "train_img = train_img.reshape(60000, 784)\n",
    "# Setting as a float32\n",
    "train_img = train_img.astype('float32')\n",
    "# Normalsation, the outputs will be between 0 and 1 as opposed to 0 and 255\n",
    "train_img= train_img/255\n",
    "# 784 is just 28 * 28 making it simpler\n",
    "test_img = test_img.reshape(10000, 784)\n",
    "# Normalsation, the outputs will be between 0 and 1 as opposed to 0 and 255\n",
    "test_img= test_img/255\n",
    "# Setting as a float32\n",
    "test_img = test_img.astype('float32')\n",
    "# Manipulating the labels\n",
    "# Passing the label datasets into one hot vectors to make it easier for the neural network to understand\n",
    "# there are 10 digits in the mnist dataset so the vector size is 10 \n",
    "# = > [0, 0, 0, 0, 0, 1, 0, 0, 0, 0] = 5\n",
    "#      0  1  2  3  4  5  6  7  8  9, \n",
    "total_Digits= 10\n",
    "# convert the labels to one hot vectors \n",
    "train_lbl = kr.utils.np_utils.to_categorical(train_lbl, total_Digits)\n",
    "test_lbl = kr.utils.np_utils.to_categorical(test_lbl, total_Digits)\n",
    "\n",
    "print(\"One hot vector at index 0 of training labels \", train_lbl[0])"
   ]
  },
  {
   "cell_type": "markdown",
   "metadata": {},
   "source": [
    "# Displaying the images and labels from the datasets\n",
    "## Verifiying that the images and labels are structured before inputing them into the model "
   ]
  },
  {
   "cell_type": "code",
   "execution_count": 52,
   "metadata": {},
   "outputs": [
    {
     "name": "stdout",
     "output_type": "stream",
     "text": [
      "Value of training label at index 0: 5\n",
      "One hot Vector of training label at index 0: [0. 0. 0. 0. 0. 1. 0. 0. 0. 0.]\n"
     ]
    },
    {
     "data": {
      "image/png": "[encoded data removed]",
      "text/plain": [
       "<Figure size 432x288 with 1 Axes>"
      ]
     },
     "metadata": {
      "needs_background": "light"
     },
     "output_type": "display_data"
    }
   ],
   "source": [
    "# displaying the training images and labels to show they are accessible\n",
    "image= train_img[0]\n",
    "# specialized function for showing images based on np arrays\n",
    "plt.imshow(image.reshape(28,28), cmap=\"gray\")\n",
    "print(\"Value of training label at index 0:\", train_labels[0])\n",
    "print(\"One hot Vector of training label at index 0:\", train_lbl[0])"
   ]
  },
  {
   "cell_type": "code",
   "execution_count": 53,
   "metadata": {},
   "outputs": [
    {
     "name": "stdout",
     "output_type": "stream",
     "text": [
      "Value of training label at index 0: 8\n",
      "One hot Vector of training label at index 0: [0. 0. 0. 0. 0. 0. 0. 0. 1. 0.]\n"
     ]
    },
    {
     "data": {
      "image/png": "[encoded data removed]",
      "text/plain": [
       "<Figure size 432x288 with 1 Axes>"
      ]
     },
     "metadata": {
      "needs_background": "light"
     },
     "output_type": "display_data"
    }
   ],
   "source": [
    "image= train_img[59999]\n",
    "# specialized function for showing images based on np arrays\n",
    "plt.imshow(image.reshape(28,28),cmap=\"gray\")\n",
    "print(\"Value of training label at index 0:\", train_labels[59999])\n",
    "print(\"One hot Vector of training label at index 0:\", train_lbl[59999])"
   ]
  },
  {
   "cell_type": "code",
   "execution_count": 54,
   "metadata": {},
   "outputs": [
    {
     "name": "stdout",
     "output_type": "stream",
     "text": [
      "Value of training label at index 24: 1\n",
      "Value of training label at index 24: [0. 1. 0. 0. 0. 0. 0. 0. 0. 0.]\n"
     ]
    },
    {
     "data": {
      "image/png": "[encoded data removed]",
      "text/plain": [
       "<Figure size 432x288 with 1 Axes>"
      ]
     },
     "metadata": {
      "needs_background": "light"
     },
     "output_type": "display_data"
    }
   ],
   "source": [
    "image= train_img[24]\n",
    "# specialized function for showing images based on np arrays\n",
    "plt.imshow(image.reshape(28,28),cmap=\"gray\")\n",
    "print(\"Value of training label at index 24:\", train_labels[24])\n",
    "print(\"Value of training label at index 24:\", train_lbl[24])"
   ]
  },
  {
   "cell_type": "code",
   "execution_count": 55,
   "metadata": {},
   "outputs": [
    {
     "data": {
      "image/png": "[encoded data removed]",
      "text/plain": [
       "<Figure size 1152x360 with 12 Axes>"
      ]
     },
     "metadata": {},
     "output_type": "display_data"
    }
   ],
   "source": [
    "# Plotting the first 25 entries from the training image set\n",
    "plt.figure(1, figsize=(16,5))\n",
    "for i in range(12):\n",
    "    plt.subplot(1,12,i+1)\n",
    "    plt.imshow(train_images[i], cmap=\"gray\")\n",
    "    # removing the labels from the graph so the images are not obstructed\n",
    "    plt.xticks([])\n",
    "    plt.yticks([])"
   ]
  },
  {
   "cell_type": "markdown",
   "metadata": {},
   "source": [
    "# Making the Neural Network\n",
    "[How to start a neural network in keras](https://keras.io/#getting-started-30-seconds-to-keras)   \n",
    "[ReLU Activation](https://machinelearningmastery.com/rectified-linear-activation-function-for-deep-learning-neural-networks/)  \n",
    "[softmax](https://www.mikulskibartosz.name/understanding-the-softmax-activation-function/)\n"
   ]
  },
  {
   "cell_type": "code",
   "execution_count": 56,
   "metadata": {},
   "outputs": [
    {
     "name": "stderr",
     "output_type": "stream",
     "text": [
      "C:\\Users\\Aaron\\Anaconda3\\lib\\site-packages\\ipykernel_launcher.py:6: UserWarning: Update your `Dense` call to the Keras 2 API: `Dense(600, activation=\"relu\", input_shape=(784,), kernel_regularizer=<keras.reg...)`\n",
      "  \n"
     ]
    }
   ],
   "source": [
    "# Starting the the neural network using models in keras\n",
    "model = kr.models.Sequential()\n",
    "# 1st Layer (Input Layer)\n",
    "# add an initial layer to the neural network, this layer gets inputs\n",
    "# linear activation is use for the first layer to get the inputs and then move to the next layer\n",
    "model.add(kr.layers.Dense(600, activation='relu', input_shape=(784,), W_regularizer=kr.regularizers.l2(0.001)))\n",
    "\n",
    "# 2nd Layer (Simplification Layer)\n",
    "# relu activation means the output of the layer will be a 1 for postive result, else it will be 0\n",
    "# This layer is used for simplefying the ouputs going into the next final layer\n",
    "model.add(kr.layers.Dense(400, activation=\"relu\"))\n",
    "# 3rd layer (Output Layer)\n",
    "# softmax means the output will make the outputs human readable\n",
    "model.add(kr.layers.Dense(10, activation=\"softmax\"))\n",
    "# Build the Neural Network\n",
    "model.compile(loss=\"categorical_crossentropy\", optimizer=\"adam\", metrics=[\"accuracy\"])"
   ]
  },
  {
   "cell_type": "code",
   "execution_count": 57,
   "metadata": {},
   "outputs": [
    {
     "name": "stdout",
     "output_type": "stream",
     "text": [
      "Model: \"sequential_11\"\n",
      "_________________________________________________________________\n",
      "Layer (type)                 Output Shape              Param #   \n",
      "=================================================================\n",
      "dense_13 (Dense)             (None, 600)               471000    \n",
      "_________________________________________________________________\n",
      "dense_14 (Dense)             (None, 400)               240400    \n",
      "_________________________________________________________________\n",
      "dense_15 (Dense)             (None, 10)                4010      \n",
      "=================================================================\n",
      "Total params: 715,410\n",
      "Trainable params: 715,410\n",
      "Non-trainable params: 0\n",
      "_________________________________________________________________\n"
     ]
    }
   ],
   "source": [
    "model.summary()"
   ]
  },
  {
   "cell_type": "code",
   "execution_count": 58,
   "metadata": {},
   "outputs": [
    {
     "name": "stdout",
     "output_type": "stream",
     "text": [
      "2 [0. 0. 1. 0. 0. 0. 0. 0. 0. 0.]\n"
     ]
    },
    {
     "data": {
      "text/plain": [
       "numpy.ndarray"
      ]
     },
     "execution_count": 58,
     "metadata": {},
     "output_type": "execute_result"
    }
   ],
   "source": [
    "# Creating the inputs to train the neural network nusing the test_images\n",
    "inputs = train_img\n",
    "outputs = train_lbl\n",
    "# Show that the values of the one hot vector matches the training labels value\n",
    "print(train_labels[25], outputs[25])\n",
    "# Just checking the type of  the inputs for clarity\n",
    "type(inputs)"
   ]
  },
  {
   "cell_type": "code",
   "execution_count": 59,
   "metadata": {},
   "outputs": [
    {
     "name": "stdout",
     "output_type": "stream",
     "text": [
      "Epoch 1/10\n",
      "60000/60000 [==============================] - 18s 302us/step - loss: 0.5452 - accuracy: 0.9234\n",
      "Epoch 2/10\n",
      "60000/60000 [==============================] - 16s 268us/step - loss: 0.2290 - accuracy: 0.9685\n",
      "Epoch 3/10\n",
      "60000/60000 [==============================] - 15s 250us/step - loss: 0.1684 - accuracy: 0.9739\n",
      "Epoch 4/10\n",
      "60000/60000 [==============================] - 15s 247us/step - loss: 0.1396 - accuracy: 0.9781\n",
      "Epoch 5/10\n",
      "60000/60000 [==============================] - 15s 253us/step - loss: 0.1250 - accuracy: 0.9799\n",
      "Epoch 6/10\n",
      "60000/60000 [==============================] - 12s 198us/step - loss: 0.1157 - accuracy: 0.9819\n",
      "Epoch 7/10\n",
      "60000/60000 [==============================] - 12s 201us/step - loss: 0.1068 - accuracy: 0.9838\n",
      "Epoch 8/10\n",
      "60000/60000 [==============================] - 11s 177us/step - loss: 0.1013 - accuracy: 0.9847\n",
      "Epoch 9/10\n",
      "60000/60000 [==============================] - 7s 117us/step - loss: 0.0978 - accuracy: 0.9850\n",
      "Epoch 10/10\n",
      "60000/60000 [==============================] - 7s 117us/step - loss: 0.0954 - accuracy: 0.9858\n"
     ]
    },
    {
     "data": {
      "text/plain": [
       "<keras.callbacks.callbacks.History at 0x19a92be4248>"
      ]
     },
     "execution_count": 59,
     "metadata": {},
     "output_type": "execute_result"
    }
   ],
   "source": [
    "# Training the model\n",
    "# the inputs are the images and the outputs are the labels of the training set\n",
    "# an epoch is how many cycles through the inputs and outputs the neureal network will compare\n",
    "model.fit(inputs, outputs, epochs=10, batch_size=256, verbose=1)"
   ]
  },
  {
   "cell_type": "code",
   "execution_count": 60,
   "metadata": {},
   "outputs": [
    {
     "name": "stdout",
     "output_type": "stream",
     "text": [
      "10000/10000 [==============================] - 1s 124us/step\n",
      "10000/10000 [==============================] - 1s 121us/step\n",
      "0.11729121360778809 0.9800000190734863\n",
      "accuracy: 98.00%\n"
     ]
    }
   ],
   "source": [
    "# Calculate and display the loss and model accuracy \n",
    "# adpated from: https://machinelearningmastery.com/save-load-keras-deep-learning-models/\n",
    "loss, accuracy = model.evaluate(test_img, test_lbl)\n",
    "score = model.evaluate(test_img, test_lbl)\n",
    "print(loss, accuracy)\n",
    "print(\"%s: %.2f%%\" % (model.metrics_names[1], score[1]*100))"
   ]
  },
  {
   "cell_type": "markdown",
   "metadata": {},
   "source": [
    "# Testing the image Manually"
   ]
  },
  {
   "cell_type": "code",
   "execution_count": 61,
   "metadata": {},
   "outputs": [
    {
     "name": "stdout",
     "output_type": "stream",
     "text": [
      "[[9.9991989e-01 1.2337571e-07 3.7502068e-05 8.0296623e-09 7.6388659e-07\n",
      "  3.7945085e-08 1.8786217e-05 2.0887821e-05 4.1204956e-08 1.9207569e-06]]\n",
      "0\n"
     ]
    },
    {
     "data": {
      "image/png": "[encoded data removed]",
      "text/plain": [
       "<Figure size 432x288 with 1 Axes>"
      ]
     },
     "metadata": {
      "needs_background": "light"
     },
     "output_type": "display_data"
    }
   ],
   "source": [
    "# Showing the image that is been tested manually for easier clarification\n",
    "image= test_img[3]\n",
    "plt.imshow(image.reshape(28,28),cmap=\"gray\")\n",
    "# Need to put a beginning and ending index for the image when using these methods\n",
    "# Prediction only works for the datasets that have been manipulated earlier in cell\n",
    "# this predict is on the one hot vertor representation of the image in the test_img ndarray\n",
    "# the index 0 of the one hot vector has the highest value 9.9..., therefore the model predicts that the image is of a 0\n",
    "print(model.predict(test_img[3:4]))\n",
    "# this is an argmax predict it will read in the image ndarray(784) and return a single digit value\n",
    "# this is more human readable then returning the result via one hot vector\n",
    "print(np.argmax(model.predict(test_img[3:4])))"
   ]
  },
  {
   "cell_type": "code",
   "execution_count": 62,
   "metadata": {},
   "outputs": [],
   "source": [
    "# saves the model to a h5 file (An enourmous amount of bytes) for importing into the flask server to recognise the digit drawn\n",
    "model.save(\"model.h5\")"
   ]
  },
  {
   "cell_type": "code",
   "execution_count": null,
   "metadata": {},
   "outputs": [],
   "source": []
  },
  {
   "cell_type": "code",
   "execution_count": null,
   "metadata": {},
   "outputs": [],
   "source": []
  }
 ],
 "metadata": {
  "kernelspec": {
   "display_name": "Python 3",
   "language": "python",
   "name": "python3"
  },
  "language_info": {
   "codemirror_mode": {
    "name": "ipython",
    "version": 3
   },
   "file_extension": ".py",
   "mimetype": "text/x-python",
   "name": "python",
   "nbconvert_exporter": "python",
   "pygments_lexer": "ipython3",
   "version": "3.7.4"
  }
 },
 "nbformat": 4,
 "nbformat_minor": 4
}
