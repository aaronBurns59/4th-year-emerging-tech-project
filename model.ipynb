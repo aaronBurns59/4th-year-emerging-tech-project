{
 "cells": [
  {
   "cell_type": "markdown",
   "metadata": {},
   "source": [
    "# Imports needed for creating and training a neural network\n",
    "\n",
    "## References\n",
    "[Keras](https://keras.io/#getting-started-30-seconds-to-keras)\n",
    "[Numpy](https://numpy.org/devdocs/user/quickstart.html)\n",
    "[matplotlib](https://matplotlib.org/)\n",
    "[pandas](https://pandas.pydata.org/pandas-docs/stable/getting_started/10min.html)\n",
    "[gzip](https://docs.python.org/3/library/gzip.html)\n"
   ]
  },
  {
   "cell_type": "code",
   "execution_count": 3,
   "metadata": {},
   "outputs": [
    {
     "name": "stderr",
     "output_type": "stream",
     "text": [
      "Using TensorFlow backend.\n"
     ]
    }
   ],
   "source": [
    "# Used to create a neural network that will be trained using the MNIST dataset\n",
    "import keras as kr\n",
    "# used to Store the bytes files in arrays that can be easily fed into the neural network\n",
    "import numpy as np\n",
    "# plotting the data on graphs\n",
    "import matplotlib.pyplot as plt\n",
    "# used for storing the dataset in data frames for easier manipulation\n",
    "import pandas as pd\n",
    "# used for decompressing the files that contain the MNIST dataset\n",
    "import gzip\n",
    "# used for encoding categorical variables\n",
    "import sklearn.preprocessing as pre"
   ]
  },
  {
   "cell_type": "markdown",
   "metadata": {},
   "source": [
    "# Importing the training images and labels and refactoring them so they fit the keras model"
   ]
  },
  {
   "cell_type": "code",
   "execution_count": 4,
   "metadata": {},
   "outputs": [],
   "source": [
    "\n",
    "# Decompresses the test image file found in the data directory, 'rb' refers to reading the file in binary\n",
    "\n",
    "with gzip.open('data/train-images-idx3-ubyte.gz') as f:\n",
    "    train_images = f.read()\n",
    "with gzip.open('data/train-labels-idx1-ubyte.gz') as f:\n",
    "    train_labels = f.read()\n",
    "    \n",
    "#with gzip.open('data/t10k-images-idx3-ubyte.gz', 'rb') as f:\n",
    "#    test_images = f.read()\n",
    "#with gzip.open('data/t10k-labels-idx1-ubyte.gz') as f:\n",
    "#    test_labels = f.read()\n",
    "    \n",
    "# Testing if the file was read correctly should return 'byte'    \n",
    "# type(train_labels)\n",
    "\n",
    "# Creates a numpy array out of the training images byte\n",
    "# allows for the 60000 entries that are in the MNIST dataset as well as reshaping the size of the image to 28 * 28 pixels\n",
    "# this will be shown on the plots for images below\n",
    "# \"/255.0\"  normalizes the imageso the values will be between 0 and 1 because the max of RGB is 255\n",
    "train_images = ~np.array(list(train_images[16:])).reshape(60000, 28, 28).astype(np.uint8)/255.0\n",
    "# This var contained the byte values of the labels (single digits)\n",
    "train_labels =  np.array(list(train_labels[8:])).astype(np.uint8)\n",
    "# the 16: and 8: refer to the location of the first value of each file, 16: is the beginning of the byte representation for the first image \n",
    "# in the MNIST dataset, 8: is the beginning of the byte representation for the first label"
   ]
  },
  {
   "cell_type": "markdown",
   "metadata": {},
   "source": [
    "# Displaying the images and labels from the datasets\n",
    "## Verifiying that the images and labels are structured before inputing them into the model "
   ]
  },
  {
   "cell_type": "code",
   "execution_count": 5,
   "metadata": {},
   "outputs": [
    {
     "name": "stdout",
     "output_type": "stream",
     "text": [
      "Value of training label at index 0: 5\n"
     ]
    },
    {
     "data": {
      "image/png": "[encoded data removed]",
      "text/plain": [
       "<Figure size 432x288 with 1 Axes>"
      ]
     },
     "metadata": {
      "needs_background": "light"
     },
     "output_type": "display_data"
    }
   ],
   "source": [
    "# displaying the training images and labels to show they are accessible\n",
    "image= train_images[0]\n",
    "# specialized function for showing images based on np arrays\n",
    "plt.imshow(image, cmap='gray')\n",
    "print(\"Value of training label at index 0:\", train_labels[0])"
   ]
  },
  {
   "cell_type": "code",
   "execution_count": 8,
   "metadata": {},
   "outputs": [
    {
     "name": "stdout",
     "output_type": "stream",
     "text": [
      "Value of training label at index 59999: 8\n"
     ]
    },
    {
     "data": {
      "image/png": "[encoded data removed]",
      "text/plain": [
       "<Figure size 432x288 with 1 Axes>"
      ]
     },
     "metadata": {
      "needs_background": "light"
     },
     "output_type": "display_data"
    }
   ],
   "source": [
    "image= train_images[59999]\n",
    "# specialized function for showing images based on np arrays\n",
    "plt.imshow(image,cmap='gray')\n",
    "print(\"Value of training label at index 59999:\", train_labels[59999])"
   ]
  },
  {
   "cell_type": "code",
   "execution_count": 7,
   "metadata": {},
   "outputs": [
    {
     "name": "stdout",
     "output_type": "stream",
     "text": [
      "Value of training label at index 25: 2\n"
     ]
    },
    {
     "data": {
      "image/png": "[encoded data removed]",
      "text/plain": [
       "<Figure size 432x288 with 1 Axes>"
      ]
     },
     "metadata": {
      "needs_background": "light"
     },
     "output_type": "display_data"
    }
   ],
   "source": [
    "image= train_images[25]\n",
    "# specialized function for showing images based on np arrays\n",
    "plt.imshow(image,cmap='gray')\n",
    "print(\"Value of training label at index 25:\", train_labels[25])"
   ]
  },
  {
   "cell_type": "markdown",
   "metadata": {},
   "source": [
    "# Making the Neural Network\n",
    "[How to start a neural network in keras](https://keras.io/#getting-started-30-seconds-to-keras)"
   ]
  },
  {
   "cell_type": "code",
   "execution_count": null,
   "metadata": {},
   "outputs": [],
   "source": [
    "# Starting the the neural network using models in keras\n",
    "model = kr.models.Sequential()\n",
    "# add an initial layer to the neural network with 1000 neurons"
   ]
  }
 ],
 "metadata": {
  "kernelspec": {
   "display_name": "Python 3",
   "language": "python",
   "name": "python3"
  },
  "language_info": {
   "codemirror_mode": {
    "name": "ipython",
    "version": 3
   },
   "file_extension": ".py",
   "mimetype": "text/x-python",
   "name": "python",
   "nbconvert_exporter": "python",
   "pygments_lexer": "ipython3",
   "version": "3.7.4"
  }
 },
 "nbformat": 4,
 "nbformat_minor": 4
}
