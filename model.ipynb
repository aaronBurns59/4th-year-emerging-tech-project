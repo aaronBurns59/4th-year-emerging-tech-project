{
 "cells": [
  {
   "cell_type": "markdown",
   "metadata": {},
   "source": [
    "# Imports needed for creating and training a neural network\n",
    "\n",
    "## References\n",
    "[Keras](https://keras.io/#getting-started-30-seconds-to-keras)\n",
    "[Numpy](https://numpy.org/devdocs/user/quickstart.html)\n",
    "[matplotlib](https://matplotlib.org/)\n",
    "[pandas](https://pandas.pydata.org/pandas-docs/stable/getting_started/10min.html)\n",
    "[gzip](https://docs.python.org/3/library/gzip.html)\n"
   ]
  },
  {
   "cell_type": "code",
   "execution_count": 2,
   "metadata": {},
   "outputs": [
    {
     "name": "stderr",
     "output_type": "stream",
     "text": [
      "Using TensorFlow backend.\n"
     ]
    }
   ],
   "source": [
    "# Used to create a neural network that will be trained using the MNIST dataset\n",
    "import keras as kr\n",
    "# used to Store the bytes files in arrays that can be easily fed into the neural network\n",
    "import numpy as np\n",
    "# plotting the data on graphs\n",
    "import matplotlib.pyplot as plt\n",
    "# used for storing the dataset in data frames for easier manipulation\n",
    "import pandas as pd\n",
    "# used for decompressing the files that contain the MNIST dataset\n",
    "import gzip\n"
   ]
  },
  {
   "cell_type": "markdown",
   "metadata": {},
   "source": [
    "# Decompressing and assigning the different sets from the MNIST dataset into variables "
   ]
  },
  {
   "cell_type": "code",
   "execution_count": 7,
   "metadata": {},
   "outputs": [
    {
     "data": {
      "text/plain": [
       "bytes"
      ]
     },
     "execution_count": 7,
     "metadata": {},
     "output_type": "execute_result"
    }
   ],
   "source": [
    "# Decompresses the test image file found in the data directory, 'rb' refers to reading the file in binary\n",
    "with gzip.open('data/t10k-images-idx3-ubyte.gz', 'rb') as f:\n",
    "    test_images = f.read()\n",
    "with gzip.open('data/t10k-labels-idx1-ubyte.gz') as f:\n",
    "    test_labels = f.read()\n",
    "with gzip.open('data/train-images-idx3-ubyte.gz') as f:\n",
    "    trai_images = f.read()\n",
    "with gzip.open('data/train-labels-idx1-ubyte.gz') as f:\n",
    "    train_labels\n",
    "    \n",
    "# Testing if the file was read correctly should return 'byte'    \n",
    "type(test_images)"
   ]
  },
  {
   "cell_type": "code",
   "execution_count": null,
   "metadata": {},
   "outputs": [],
   "source": []
  }
 ],
 "metadata": {
  "kernelspec": {
   "display_name": "Python 3",
   "language": "python",
   "name": "python3"
  },
  "language_info": {
   "codemirror_mode": {
    "name": "ipython",
    "version": 3
   },
   "file_extension": ".py",
   "mimetype": "text/x-python",
   "name": "python",
   "nbconvert_exporter": "python",
   "pygments_lexer": "ipython3",
   "version": "3.7.4"
  }
 },
 "nbformat": 4,
 "nbformat_minor": 4
}
